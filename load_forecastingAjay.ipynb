{
  "nbformat": 4,
  "nbformat_minor": 0,
  "metadata": {
    "colab": {
      "provenance": [],
      "toc_visible": true,
      "authorship_tag": "ABX9TyOnRrJLx3UcgYj63tcBrmqz",
      "include_colab_link": true
    },
    "kernelspec": {
      "name": "python3",
      "display_name": "Python 3"
    },
    "language_info": {
      "name": "python"
    }
  },
  "cells": [
    {
      "cell_type": "markdown",
      "metadata": {
        "id": "view-in-github",
        "colab_type": "text"
      },
      "source": [
        "<a href=\"https://colab.research.google.com/github/Ajaysharma001/temperature-converter/blob/main/load_forecastingAjay.ipynb\" target=\"_parent\"><img src=\"https://colab.research.google.com/assets/colab-badge.svg\" alt=\"Open In Colab\"/></a>"
      ]
    },
    {
      "cell_type": "code",
      "execution_count": 1,
      "metadata": {
        "id": "EPX1Cb_xHYPz"
      },
      "outputs": [],
      "source": [
        "import time\n",
        "import pandas as pd\n",
        "import numpy as np\n",
        "from keras.models import Sequential\n",
        "from keras.layers.core import Dense\n",
        "from keras.layers import LSTM\n",
        "from matplotlib import pyplot as plt\n",
        "from math import sqrt"
      ]
    },
    {
      "cell_type": "code",
      "source": [
        "# input part\n",
        "def get_data():\n",
        "    data = pd.read_csv('data123.csv.csv')\n",
        "    df = pd.DataFrame(data)\n",
        "    df.drop(df.columns[[0, 3, 7, 8]], axis=1, inplace=True)\n",
        "    return df"
      ],
      "metadata": {
        "id": "bEvUWsuKIHcr"
      },
      "execution_count": 7,
      "outputs": []
    },
    {
      "cell_type": "code",
      "source": [
        "# cleaning and spliting part\n",
        "def load_data(data, seq_len):\n",
        "    var_count = len(data.columns)\n",
        "    data = data.values\n",
        "    sequence_length = seq_len+1\n",
        "    result = []\n",
        "    for i in range(len(data)-sequence_length):\n",
        "        result.append(data[i:i+sequence_length])\n",
        "    result = np.array(result)\n",
        "    row = round(0.8*result.shape[0])\n",
        "    train = result[:int(row), :]\n",
        "    x_train = train[:, :-1]\n",
        "    y_train = train[:, -1][:, -1]\n",
        "    x_test = result[int(row):, :-1]\n",
        "    y_test = result[int(row):, -1][:, -1]\n",
        "    x_train = np.reshape(\n",
        "        x_train, (x_train.shape[0], x_train.shape[1], var_count))\n",
        "    x_test = np.reshape(\n",
        "        x_test, (x_test.shape[0], x_test.shape[1], var_count))\n",
        "    print(x_train[:3])\n",
        "    print(y_train[:3])\n",
        "    return [x_train, y_train, x_test, y_test]"
      ],
      "metadata": {
        "id": "a51UhDdEIZfR"
      },
      "execution_count": 8,
      "outputs": []
    },
    {
      "cell_type": "code",
      "source": [
        "# building of untrained data\n",
        "def build_model(layers):\n",
        "    model = Sequential()\n",
        "    model.add(LSTM(50, input_shape=(\n",
        "        layers[1], layers[0]), return_sequences=False))\n",
        "    model.add(Dense(1, activation=\"relu\", kernel_initializer=\"uniform\"))\n",
        "\n",
        "    start = time.time()\n",
        "    model.compile(loss=\"mse\", optimizer=\"rmsprop\", metrics=['accuracy'])\n",
        "    print(\"Compilation Time : \", time.time() - start)\n",
        "    return model"
      ],
      "metadata": {
        "id": "U969msYiIbnG"
      },
      "execution_count": 9,
      "outputs": []
    },
    {
      "cell_type": "code",
      "source": [
        "df = get_data()\n",
        "print(df)"
      ],
      "metadata": {
        "colab": {
          "base_uri": "https://localhost:8080/"
        },
        "id": "aIKTLRu3IgH3",
        "outputId": "751e2a81-03da-4973-af3a-4780abeb4675"
      },
      "execution_count": 10,
      "outputs": [
        {
          "output_type": "stream",
          "name": "stdout",
          "text": [
            "       Day  Month  Hours  Temperature  Demand\n",
            "0        1      1      0        6.800   61194\n",
            "1        1      1   1800        6.710   59674\n",
            "2        1      1   3600        6.620   57877\n",
            "3        1      1   5400        6.530   57755\n",
            "4        1      1   7200        6.440   57243\n",
            "...    ...    ...    ...          ...     ...\n",
            "70123   31     12  77400        1.390   71318\n",
            "70124   31     12  79200        1.290   70793\n",
            "70125   31     12  81000        1.215   71924\n",
            "70126   31     12  82800        1.140   75424\n",
            "70127   31     12  84600        1.100   75504\n",
            "\n",
            "[70128 rows x 5 columns]\n"
          ]
        }
      ]
    },
    {
      "cell_type": "code",
      "source": [
        "values = df.values\n",
        "print(values)"
      ],
      "metadata": {
        "colab": {
          "base_uri": "https://localhost:8080/"
        },
        "id": "jCbBrWaSMmFo",
        "outputId": "37b77e12-1aa1-4bf6-f29c-51a15d77f4b2"
      },
      "execution_count": 11,
      "outputs": [
        {
          "output_type": "stream",
          "name": "stdout",
          "text": [
            "[[1.0000e+00 1.0000e+00 0.0000e+00 6.8000e+00 6.1194e+04]\n",
            " [1.0000e+00 1.0000e+00 1.8000e+03 6.7100e+00 5.9674e+04]\n",
            " [1.0000e+00 1.0000e+00 3.6000e+03 6.6200e+00 5.7877e+04]\n",
            " ...\n",
            " [3.1000e+01 1.2000e+01 8.1000e+04 1.2150e+00 7.1924e+04]\n",
            " [3.1000e+01 1.2000e+01 8.2800e+04 1.1400e+00 7.5424e+04]\n",
            " [3.1000e+01 1.2000e+01 8.4600e+04 1.1000e+00 7.5504e+04]]\n"
          ]
        }
      ]
    },
    {
      "cell_type": "code",
      "source": [
        "minima = np.amin(values[:, -1])\n",
        "maxima = np.amax(values[:, -1])\n",
        "scaling_parameter = maxima-minima"
      ],
      "metadata": {
        "id": "TM-OyrBgMsFW"
      },
      "execution_count": 12,
      "outputs": []
    },
    {
      "cell_type": "code",
      "source": [
        "values[:, 4] = (values[:, 4] - minima) / scaling_parameter\n",
        "values[:, 0] = (values[:, 0]-np.amin(values[:, 0])) / \\\n",
        "    (np.amax(values[:, 0])-np.amin(values[:, 0]))\n",
        "values[:, 1] = (values[:, 1]-np.amin(values[:, 1])) / \\\n",
        "    (np.amax(values[:, 1])-np.amin(values[:, 1]))\n",
        "values[:, 2] = (values[:, 2]-np.amin(values[:, 2])) / \\\n",
        "    (np.amax(values[:, 2])-np.amin(values[:, 2]))\n",
        "values[:, 3] = (values[:, 3]-np.amin(values[:, 3])) / \\\n",
        "    (np.amax(values[:, 3])-np.amin(values[:, 3]))"
      ],
      "metadata": {
        "id": "AK18oMrwMs-4"
      },
      "execution_count": 13,
      "outputs": []
    },
    {
      "cell_type": "code",
      "source": [
        "df = pd.DataFrame(values)\n",
        "window = 5\n",
        "x_train, y_train, x_test, y_test = load_data(df[::-1], window)"
      ],
      "metadata": {
        "colab": {
          "base_uri": "https://localhost:8080/"
        },
        "id": "Pz52CskfNM8s",
        "outputId": "624c4630-5cd5-4a65-cd15-7e39129ab608"
      },
      "execution_count": 14,
      "outputs": [
        {
          "output_type": "stream",
          "name": "stdout",
          "text": [
            "[[[1.         1.         1.         0.1301536  0.72882886]\n",
            "  [1.         1.         0.9787234  0.13123147 0.72756207]\n",
            "  [1.         1.         0.95744681 0.13325249 0.67214023]\n",
            "  [1.         1.         0.93617021 0.13527351 0.65423106]\n",
            "  [1.         1.         0.91489362 0.1379682  0.66254434]]\n",
            "\n",
            " [[1.         1.         0.9787234  0.13123147 0.72756207]\n",
            "  [1.         1.         0.95744681 0.13325249 0.67214023]\n",
            "  [1.         1.         0.93617021 0.13527351 0.65423106]\n",
            "  [1.         1.         0.91489362 0.1379682  0.66254434]\n",
            "  [1.         1.         0.89361702 0.14066289 0.67928173]]\n",
            "\n",
            " [[1.         1.         0.95744681 0.13325249 0.67214023]\n",
            "  [1.         1.         0.93617021 0.13527351 0.65423106]\n",
            "  [1.         1.         0.91489362 0.1379682  0.66254434]\n",
            "  [1.         1.         0.89361702 0.14066289 0.67928173]\n",
            "  [1.         1.         0.87234043 0.14443546 0.70233722]]]\n",
            "[0.67928173 0.70233722 0.73118824]\n"
          ]
        }
      ]
    },
    {
      "cell_type": "code",
      "source": [
        "print(y_test)"
      ],
      "metadata": {
        "colab": {
          "base_uri": "https://localhost:8080/"
        },
        "id": "p5Oaq185NRX6",
        "outputId": "b624c5d1-9dca-49d5-b149-7f29b53cc3e8"
      },
      "execution_count": 15,
      "outputs": [
        {
          "output_type": "stream",
          "name": "stdout",
          "text": [
            "[0.10699582 0.12588675 0.14390676 ... 0.44777679 0.44970864 0.4781638 ]\n"
          ]
        }
      ]
    },
    {
      "cell_type": "code",
      "source": [
        "model = build_model([5, window, 1])"
      ],
      "metadata": {
        "colab": {
          "base_uri": "https://localhost:8080/"
        },
        "id": "K9pGU21NNWGV",
        "outputId": "074bebfe-7497-475b-c574-534d5eb12ef1"
      },
      "execution_count": 16,
      "outputs": [
        {
          "output_type": "stream",
          "name": "stdout",
          "text": [
            "Compilation Time :  0.007955551147460938\n"
          ]
        }
      ]
    },
    {
      "cell_type": "code",
      "source": [
        "print(x_train.shape)"
      ],
      "metadata": {
        "colab": {
          "base_uri": "https://localhost:8080/"
        },
        "id": "j23kOG5vNbUt",
        "outputId": "fe7c73cd-d6f6-46b2-c799-6d1b73cccadb"
      },
      "execution_count": 17,
      "outputs": [
        {
          "output_type": "stream",
          "name": "stdout",
          "text": [
            "(56098, 5, 5)\n"
          ]
        }
      ]
    },
    {
      "cell_type": "code",
      "source": [
        "# training part, can also change batch size and epoch to get more better result\n",
        "model.fit(\n",
        "    x_train,\n",
        "    y_train,\n",
        "    batch_size=1024,\n",
        "    epochs=100,\n",
        "    validation_split=0.2,\n",
        "    verbose=2\n",
        ")"
      ],
      "metadata": {
        "colab": {
          "base_uri": "https://localhost:8080/"
        },
        "id": "NM5waSuuNgJW",
        "outputId": "190d432a-249e-42c0-eb13-bf5e01deef2d"
      },
      "execution_count": 18,
      "outputs": [
        {
          "output_type": "stream",
          "name": "stdout",
          "text": [
            "Epoch 1/100\n",
            "44/44 - 4s - loss: 0.0494 - accuracy: 2.2283e-05 - val_loss: 0.0142 - val_accuracy: 0.0000e+00 - 4s/epoch - 91ms/step\n",
            "Epoch 2/100\n",
            "44/44 - 1s - loss: 0.0064 - accuracy: 2.2283e-05 - val_loss: 0.0051 - val_accuracy: 0.0000e+00 - 963ms/epoch - 22ms/step\n",
            "Epoch 3/100\n",
            "44/44 - 1s - loss: 0.0043 - accuracy: 2.2283e-05 - val_loss: 0.0042 - val_accuracy: 0.0000e+00 - 976ms/epoch - 22ms/step\n",
            "Epoch 4/100\n",
            "44/44 - 1s - loss: 0.0039 - accuracy: 2.2283e-05 - val_loss: 0.0037 - val_accuracy: 0.0000e+00 - 941ms/epoch - 21ms/step\n",
            "Epoch 5/100\n",
            "44/44 - 1s - loss: 0.0036 - accuracy: 2.2283e-05 - val_loss: 0.0038 - val_accuracy: 0.0000e+00 - 962ms/epoch - 22ms/step\n",
            "Epoch 6/100\n",
            "44/44 - 1s - loss: 0.0034 - accuracy: 2.2283e-05 - val_loss: 0.0036 - val_accuracy: 0.0000e+00 - 966ms/epoch - 22ms/step\n",
            "Epoch 7/100\n",
            "44/44 - 1s - loss: 0.0032 - accuracy: 2.2283e-05 - val_loss: 0.0034 - val_accuracy: 0.0000e+00 - 959ms/epoch - 22ms/step\n",
            "Epoch 8/100\n",
            "44/44 - 1s - loss: 0.0031 - accuracy: 2.2283e-05 - val_loss: 0.0032 - val_accuracy: 0.0000e+00 - 933ms/epoch - 21ms/step\n",
            "Epoch 9/100\n",
            "44/44 - 1s - loss: 0.0029 - accuracy: 2.2283e-05 - val_loss: 0.0029 - val_accuracy: 0.0000e+00 - 951ms/epoch - 22ms/step\n",
            "Epoch 10/100\n",
            "44/44 - 1s - loss: 0.0027 - accuracy: 2.2283e-05 - val_loss: 0.0026 - val_accuracy: 0.0000e+00 - 960ms/epoch - 22ms/step\n",
            "Epoch 11/100\n",
            "44/44 - 1s - loss: 0.0025 - accuracy: 2.2283e-05 - val_loss: 0.0032 - val_accuracy: 0.0000e+00 - 947ms/epoch - 22ms/step\n",
            "Epoch 12/100\n",
            "44/44 - 1s - loss: 0.0022 - accuracy: 2.2283e-05 - val_loss: 0.0025 - val_accuracy: 0.0000e+00 - 981ms/epoch - 22ms/step\n",
            "Epoch 13/100\n",
            "44/44 - 1s - loss: 0.0020 - accuracy: 2.2283e-05 - val_loss: 0.0031 - val_accuracy: 0.0000e+00 - 967ms/epoch - 22ms/step\n",
            "Epoch 14/100\n",
            "44/44 - 1s - loss: 0.0019 - accuracy: 2.2283e-05 - val_loss: 0.0020 - val_accuracy: 0.0000e+00 - 947ms/epoch - 22ms/step\n",
            "Epoch 15/100\n",
            "44/44 - 1s - loss: 0.0017 - accuracy: 2.2283e-05 - val_loss: 0.0018 - val_accuracy: 0.0000e+00 - 959ms/epoch - 22ms/step\n",
            "Epoch 16/100\n",
            "44/44 - 1s - loss: 0.0015 - accuracy: 2.2283e-05 - val_loss: 0.0023 - val_accuracy: 0.0000e+00 - 943ms/epoch - 21ms/step\n",
            "Epoch 17/100\n",
            "44/44 - 1s - loss: 0.0014 - accuracy: 2.2283e-05 - val_loss: 0.0011 - val_accuracy: 0.0000e+00 - 922ms/epoch - 21ms/step\n",
            "Epoch 18/100\n",
            "44/44 - 1s - loss: 0.0012 - accuracy: 2.2283e-05 - val_loss: 0.0015 - val_accuracy: 0.0000e+00 - 925ms/epoch - 21ms/step\n",
            "Epoch 19/100\n",
            "44/44 - 1s - loss: 0.0012 - accuracy: 2.2283e-05 - val_loss: 0.0016 - val_accuracy: 0.0000e+00 - 942ms/epoch - 21ms/step\n",
            "Epoch 20/100\n",
            "44/44 - 1s - loss: 0.0010 - accuracy: 2.2283e-05 - val_loss: 0.0011 - val_accuracy: 0.0000e+00 - 953ms/epoch - 22ms/step\n",
            "Epoch 21/100\n",
            "44/44 - 1s - loss: 9.8055e-04 - accuracy: 2.2283e-05 - val_loss: 0.0012 - val_accuracy: 0.0000e+00 - 922ms/epoch - 21ms/step\n",
            "Epoch 22/100\n",
            "44/44 - 1s - loss: 8.9055e-04 - accuracy: 2.2283e-05 - val_loss: 9.1818e-04 - val_accuracy: 0.0000e+00 - 925ms/epoch - 21ms/step\n",
            "Epoch 23/100\n",
            "44/44 - 1s - loss: 8.2255e-04 - accuracy: 2.2283e-05 - val_loss: 0.0012 - val_accuracy: 0.0000e+00 - 962ms/epoch - 22ms/step\n",
            "Epoch 24/100\n",
            "44/44 - 1s - loss: 7.7716e-04 - accuracy: 2.2283e-05 - val_loss: 9.2979e-04 - val_accuracy: 0.0000e+00 - 976ms/epoch - 22ms/step\n",
            "Epoch 25/100\n",
            "44/44 - 1s - loss: 7.3866e-04 - accuracy: 2.2283e-05 - val_loss: 0.0011 - val_accuracy: 0.0000e+00 - 1s/epoch - 28ms/step\n",
            "Epoch 26/100\n",
            "44/44 - 2s - loss: 6.8854e-04 - accuracy: 2.2283e-05 - val_loss: 0.0010 - val_accuracy: 0.0000e+00 - 2s/epoch - 34ms/step\n",
            "Epoch 27/100\n",
            "44/44 - 1s - loss: 6.8131e-04 - accuracy: 2.2283e-05 - val_loss: 6.8457e-04 - val_accuracy: 0.0000e+00 - 1s/epoch - 32ms/step\n",
            "Epoch 28/100\n",
            "44/44 - 1s - loss: 6.2251e-04 - accuracy: 2.2283e-05 - val_loss: 9.6835e-04 - val_accuracy: 0.0000e+00 - 938ms/epoch - 21ms/step\n",
            "Epoch 29/100\n",
            "44/44 - 1s - loss: 6.1486e-04 - accuracy: 2.2283e-05 - val_loss: 8.9138e-04 - val_accuracy: 0.0000e+00 - 960ms/epoch - 22ms/step\n",
            "Epoch 30/100\n",
            "44/44 - 1s - loss: 5.8849e-04 - accuracy: 2.2283e-05 - val_loss: 7.4529e-04 - val_accuracy: 0.0000e+00 - 925ms/epoch - 21ms/step\n",
            "Epoch 31/100\n",
            "44/44 - 1s - loss: 5.6043e-04 - accuracy: 2.2283e-05 - val_loss: 6.3882e-04 - val_accuracy: 0.0000e+00 - 967ms/epoch - 22ms/step\n",
            "Epoch 32/100\n",
            "44/44 - 1s - loss: 5.4099e-04 - accuracy: 2.2283e-05 - val_loss: 5.8061e-04 - val_accuracy: 0.0000e+00 - 954ms/epoch - 22ms/step\n",
            "Epoch 33/100\n",
            "44/44 - 1s - loss: 5.1948e-04 - accuracy: 2.2283e-05 - val_loss: 5.3597e-04 - val_accuracy: 0.0000e+00 - 989ms/epoch - 22ms/step\n",
            "Epoch 34/100\n",
            "44/44 - 1s - loss: 4.8959e-04 - accuracy: 2.2283e-05 - val_loss: 6.8796e-04 - val_accuracy: 0.0000e+00 - 958ms/epoch - 22ms/step\n",
            "Epoch 35/100\n",
            "44/44 - 1s - loss: 4.7532e-04 - accuracy: 2.2283e-05 - val_loss: 5.2968e-04 - val_accuracy: 0.0000e+00 - 943ms/epoch - 21ms/step\n",
            "Epoch 36/100\n",
            "44/44 - 1s - loss: 4.4435e-04 - accuracy: 2.2283e-05 - val_loss: 4.5333e-04 - val_accuracy: 0.0000e+00 - 937ms/epoch - 21ms/step\n",
            "Epoch 37/100\n",
            "44/44 - 1s - loss: 4.2059e-04 - accuracy: 2.2283e-05 - val_loss: 5.1938e-04 - val_accuracy: 0.0000e+00 - 953ms/epoch - 22ms/step\n",
            "Epoch 38/100\n",
            "44/44 - 1s - loss: 4.1035e-04 - accuracy: 2.2283e-05 - val_loss: 4.6049e-04 - val_accuracy: 0.0000e+00 - 972ms/epoch - 22ms/step\n",
            "Epoch 39/100\n",
            "44/44 - 1s - loss: 3.8661e-04 - accuracy: 2.2283e-05 - val_loss: 4.4211e-04 - val_accuracy: 0.0000e+00 - 934ms/epoch - 21ms/step\n",
            "Epoch 40/100\n",
            "44/44 - 1s - loss: 3.6759e-04 - accuracy: 2.2283e-05 - val_loss: 4.3935e-04 - val_accuracy: 0.0000e+00 - 926ms/epoch - 21ms/step\n",
            "Epoch 41/100\n",
            "44/44 - 1s - loss: 3.5585e-04 - accuracy: 2.2283e-05 - val_loss: 3.2577e-04 - val_accuracy: 0.0000e+00 - 939ms/epoch - 21ms/step\n",
            "Epoch 42/100\n",
            "44/44 - 1s - loss: 3.3513e-04 - accuracy: 2.2283e-05 - val_loss: 4.3289e-04 - val_accuracy: 0.0000e+00 - 942ms/epoch - 21ms/step\n",
            "Epoch 43/100\n",
            "44/44 - 1s - loss: 3.3193e-04 - accuracy: 2.2283e-05 - val_loss: 3.9507e-04 - val_accuracy: 0.0000e+00 - 926ms/epoch - 21ms/step\n",
            "Epoch 44/100\n",
            "44/44 - 1s - loss: 3.2341e-04 - accuracy: 2.2283e-05 - val_loss: 3.5411e-04 - val_accuracy: 0.0000e+00 - 979ms/epoch - 22ms/step\n",
            "Epoch 45/100\n",
            "44/44 - 1s - loss: 3.1177e-04 - accuracy: 2.2283e-05 - val_loss: 2.6151e-04 - val_accuracy: 0.0000e+00 - 999ms/epoch - 23ms/step\n",
            "Epoch 46/100\n",
            "44/44 - 1s - loss: 2.9989e-04 - accuracy: 2.2283e-05 - val_loss: 3.1874e-04 - val_accuracy: 0.0000e+00 - 958ms/epoch - 22ms/step\n",
            "Epoch 47/100\n",
            "44/44 - 1s - loss: 2.9268e-04 - accuracy: 2.2283e-05 - val_loss: 3.1170e-04 - val_accuracy: 0.0000e+00 - 936ms/epoch - 21ms/step\n",
            "Epoch 48/100\n",
            "44/44 - 1s - loss: 2.8277e-04 - accuracy: 2.2283e-05 - val_loss: 2.5205e-04 - val_accuracy: 0.0000e+00 - 972ms/epoch - 22ms/step\n",
            "Epoch 49/100\n",
            "44/44 - 1s - loss: 2.7565e-04 - accuracy: 2.2283e-05 - val_loss: 3.2580e-04 - val_accuracy: 0.0000e+00 - 971ms/epoch - 22ms/step\n",
            "Epoch 50/100\n",
            "44/44 - 1s - loss: 2.7331e-04 - accuracy: 2.2283e-05 - val_loss: 3.4192e-04 - val_accuracy: 0.0000e+00 - 934ms/epoch - 21ms/step\n",
            "Epoch 51/100\n",
            "44/44 - 1s - loss: 2.6793e-04 - accuracy: 2.2283e-05 - val_loss: 3.0975e-04 - val_accuracy: 0.0000e+00 - 949ms/epoch - 22ms/step\n",
            "Epoch 52/100\n",
            "44/44 - 1s - loss: 2.5775e-04 - accuracy: 2.2283e-05 - val_loss: 2.7784e-04 - val_accuracy: 0.0000e+00 - 947ms/epoch - 22ms/step\n",
            "Epoch 53/100\n",
            "44/44 - 1s - loss: 2.5853e-04 - accuracy: 2.2283e-05 - val_loss: 2.6110e-04 - val_accuracy: 0.0000e+00 - 918ms/epoch - 21ms/step\n",
            "Epoch 54/100\n",
            "44/44 - 1s - loss: 2.4720e-04 - accuracy: 2.2283e-05 - val_loss: 3.4271e-04 - val_accuracy: 0.0000e+00 - 936ms/epoch - 21ms/step\n",
            "Epoch 55/100\n",
            "44/44 - 1s - loss: 2.4674e-04 - accuracy: 2.2283e-05 - val_loss: 2.7460e-04 - val_accuracy: 0.0000e+00 - 950ms/epoch - 22ms/step\n",
            "Epoch 56/100\n",
            "44/44 - 1s - loss: 2.4105e-04 - accuracy: 2.2283e-05 - val_loss: 2.8875e-04 - val_accuracy: 0.0000e+00 - 929ms/epoch - 21ms/step\n",
            "Epoch 57/100\n",
            "44/44 - 1s - loss: 2.3525e-04 - accuracy: 2.2283e-05 - val_loss: 2.3308e-04 - val_accuracy: 0.0000e+00 - 926ms/epoch - 21ms/step\n",
            "Epoch 58/100\n",
            "44/44 - 1s - loss: 2.3069e-04 - accuracy: 2.2283e-05 - val_loss: 1.8216e-04 - val_accuracy: 0.0000e+00 - 927ms/epoch - 21ms/step\n",
            "Epoch 59/100\n",
            "44/44 - 1s - loss: 2.2912e-04 - accuracy: 2.2283e-05 - val_loss: 2.9213e-04 - val_accuracy: 0.0000e+00 - 952ms/epoch - 22ms/step\n",
            "Epoch 60/100\n",
            "44/44 - 1s - loss: 2.2985e-04 - accuracy: 2.2283e-05 - val_loss: 3.2642e-04 - val_accuracy: 0.0000e+00 - 956ms/epoch - 22ms/step\n",
            "Epoch 61/100\n",
            "44/44 - 1s - loss: 2.2811e-04 - accuracy: 2.2283e-05 - val_loss: 3.1408e-04 - val_accuracy: 0.0000e+00 - 930ms/epoch - 21ms/step\n",
            "Epoch 62/100\n",
            "44/44 - 1s - loss: 2.2508e-04 - accuracy: 2.2283e-05 - val_loss: 2.7262e-04 - val_accuracy: 0.0000e+00 - 1s/epoch - 28ms/step\n",
            "Epoch 63/100\n",
            "44/44 - 1s - loss: 2.1702e-04 - accuracy: 2.2283e-05 - val_loss: 3.4011e-04 - val_accuracy: 0.0000e+00 - 966ms/epoch - 22ms/step\n",
            "Epoch 64/100\n",
            "44/44 - 1s - loss: 2.1508e-04 - accuracy: 2.2283e-05 - val_loss: 1.8044e-04 - val_accuracy: 0.0000e+00 - 923ms/epoch - 21ms/step\n",
            "Epoch 65/100\n",
            "44/44 - 1s - loss: 2.1835e-04 - accuracy: 2.2283e-05 - val_loss: 2.3556e-04 - val_accuracy: 0.0000e+00 - 923ms/epoch - 21ms/step\n",
            "Epoch 66/100\n",
            "44/44 - 1s - loss: 2.1150e-04 - accuracy: 2.2283e-05 - val_loss: 4.0289e-04 - val_accuracy: 0.0000e+00 - 953ms/epoch - 22ms/step\n",
            "Epoch 67/100\n",
            "44/44 - 1s - loss: 2.1484e-04 - accuracy: 2.2283e-05 - val_loss: 2.2230e-04 - val_accuracy: 0.0000e+00 - 965ms/epoch - 22ms/step\n",
            "Epoch 68/100\n",
            "44/44 - 1s - loss: 2.1155e-04 - accuracy: 2.2283e-05 - val_loss: 2.1485e-04 - val_accuracy: 0.0000e+00 - 943ms/epoch - 21ms/step\n",
            "Epoch 69/100\n",
            "44/44 - 1s - loss: 2.0698e-04 - accuracy: 2.2283e-05 - val_loss: 2.0195e-04 - val_accuracy: 0.0000e+00 - 936ms/epoch - 21ms/step\n",
            "Epoch 70/100\n",
            "44/44 - 1s - loss: 2.0418e-04 - accuracy: 2.2283e-05 - val_loss: 3.1478e-04 - val_accuracy: 0.0000e+00 - 925ms/epoch - 21ms/step\n",
            "Epoch 71/100\n",
            "44/44 - 1s - loss: 2.0526e-04 - accuracy: 2.2283e-05 - val_loss: 2.4300e-04 - val_accuracy: 0.0000e+00 - 947ms/epoch - 22ms/step\n",
            "Epoch 72/100\n",
            "44/44 - 1s - loss: 2.0566e-04 - accuracy: 2.2283e-05 - val_loss: 2.2442e-04 - val_accuracy: 0.0000e+00 - 949ms/epoch - 22ms/step\n",
            "Epoch 73/100\n",
            "44/44 - 1s - loss: 1.9952e-04 - accuracy: 2.2283e-05 - val_loss: 2.6071e-04 - val_accuracy: 0.0000e+00 - 965ms/epoch - 22ms/step\n",
            "Epoch 74/100\n",
            "44/44 - 1s - loss: 2.0080e-04 - accuracy: 2.2283e-05 - val_loss: 2.0434e-04 - val_accuracy: 0.0000e+00 - 964ms/epoch - 22ms/step\n",
            "Epoch 75/100\n",
            "44/44 - 1s - loss: 1.9387e-04 - accuracy: 2.2283e-05 - val_loss: 2.7799e-04 - val_accuracy: 0.0000e+00 - 964ms/epoch - 22ms/step\n",
            "Epoch 76/100\n",
            "44/44 - 1s - loss: 2.0045e-04 - accuracy: 2.2283e-05 - val_loss: 2.1159e-04 - val_accuracy: 0.0000e+00 - 970ms/epoch - 22ms/step\n",
            "Epoch 77/100\n",
            "44/44 - 1s - loss: 1.9678e-04 - accuracy: 2.2283e-05 - val_loss: 2.2352e-04 - val_accuracy: 0.0000e+00 - 962ms/epoch - 22ms/step\n",
            "Epoch 78/100\n",
            "44/44 - 1s - loss: 1.9233e-04 - accuracy: 2.2283e-05 - val_loss: 3.0303e-04 - val_accuracy: 0.0000e+00 - 967ms/epoch - 22ms/step\n",
            "Epoch 79/100\n",
            "44/44 - 1s - loss: 1.9390e-04 - accuracy: 2.2283e-05 - val_loss: 1.8642e-04 - val_accuracy: 0.0000e+00 - 966ms/epoch - 22ms/step\n",
            "Epoch 80/100\n",
            "44/44 - 2s - loss: 1.8981e-04 - accuracy: 2.2283e-05 - val_loss: 2.6497e-04 - val_accuracy: 0.0000e+00 - 2s/epoch - 37ms/step\n",
            "Epoch 81/100\n",
            "44/44 - 1s - loss: 1.9355e-04 - accuracy: 2.2283e-05 - val_loss: 2.1010e-04 - val_accuracy: 0.0000e+00 - 1s/epoch - 23ms/step\n",
            "Epoch 82/100\n",
            "44/44 - 1s - loss: 1.8837e-04 - accuracy: 2.2283e-05 - val_loss: 2.3073e-04 - val_accuracy: 0.0000e+00 - 932ms/epoch - 21ms/step\n",
            "Epoch 83/100\n",
            "44/44 - 1s - loss: 1.8965e-04 - accuracy: 2.2283e-05 - val_loss: 2.0301e-04 - val_accuracy: 0.0000e+00 - 959ms/epoch - 22ms/step\n",
            "Epoch 84/100\n",
            "44/44 - 1s - loss: 1.8606e-04 - accuracy: 2.2283e-05 - val_loss: 2.1570e-04 - val_accuracy: 0.0000e+00 - 957ms/epoch - 22ms/step\n",
            "Epoch 85/100\n",
            "44/44 - 1s - loss: 1.8733e-04 - accuracy: 2.2283e-05 - val_loss: 1.9458e-04 - val_accuracy: 0.0000e+00 - 958ms/epoch - 22ms/step\n",
            "Epoch 86/100\n",
            "44/44 - 1s - loss: 1.8276e-04 - accuracy: 2.2283e-05 - val_loss: 2.2031e-04 - val_accuracy: 0.0000e+00 - 969ms/epoch - 22ms/step\n",
            "Epoch 87/100\n",
            "44/44 - 1s - loss: 1.8516e-04 - accuracy: 2.2283e-05 - val_loss: 1.9927e-04 - val_accuracy: 0.0000e+00 - 960ms/epoch - 22ms/step\n",
            "Epoch 88/100\n",
            "44/44 - 1s - loss: 1.8204e-04 - accuracy: 2.2283e-05 - val_loss: 1.5646e-04 - val_accuracy: 0.0000e+00 - 987ms/epoch - 22ms/step\n",
            "Epoch 89/100\n",
            "44/44 - 1s - loss: 1.8319e-04 - accuracy: 2.2283e-05 - val_loss: 2.1411e-04 - val_accuracy: 0.0000e+00 - 994ms/epoch - 23ms/step\n",
            "Epoch 90/100\n",
            "44/44 - 1s - loss: 1.8181e-04 - accuracy: 2.2283e-05 - val_loss: 1.9324e-04 - val_accuracy: 0.0000e+00 - 979ms/epoch - 22ms/step\n",
            "Epoch 91/100\n",
            "44/44 - 1s - loss: 1.7900e-04 - accuracy: 2.2283e-05 - val_loss: 2.5913e-04 - val_accuracy: 0.0000e+00 - 955ms/epoch - 22ms/step\n",
            "Epoch 92/100\n",
            "44/44 - 1s - loss: 1.7656e-04 - accuracy: 2.2283e-05 - val_loss: 1.8026e-04 - val_accuracy: 0.0000e+00 - 953ms/epoch - 22ms/step\n",
            "Epoch 93/100\n",
            "44/44 - 1s - loss: 1.8087e-04 - accuracy: 2.2283e-05 - val_loss: 2.2591e-04 - val_accuracy: 0.0000e+00 - 945ms/epoch - 21ms/step\n",
            "Epoch 94/100\n",
            "44/44 - 1s - loss: 1.7722e-04 - accuracy: 2.2283e-05 - val_loss: 1.6936e-04 - val_accuracy: 0.0000e+00 - 940ms/epoch - 21ms/step\n",
            "Epoch 95/100\n",
            "44/44 - 1s - loss: 1.7236e-04 - accuracy: 2.2283e-05 - val_loss: 1.7984e-04 - val_accuracy: 0.0000e+00 - 946ms/epoch - 21ms/step\n",
            "Epoch 96/100\n",
            "44/44 - 1s - loss: 1.7795e-04 - accuracy: 2.2283e-05 - val_loss: 2.1482e-04 - val_accuracy: 0.0000e+00 - 988ms/epoch - 22ms/step\n",
            "Epoch 97/100\n",
            "44/44 - 1s - loss: 1.7365e-04 - accuracy: 2.2283e-05 - val_loss: 2.5497e-04 - val_accuracy: 0.0000e+00 - 965ms/epoch - 22ms/step\n",
            "Epoch 98/100\n",
            "44/44 - 1s - loss: 1.7238e-04 - accuracy: 2.2283e-05 - val_loss: 2.1803e-04 - val_accuracy: 0.0000e+00 - 971ms/epoch - 22ms/step\n",
            "Epoch 99/100\n",
            "44/44 - 1s - loss: 1.7227e-04 - accuracy: 2.2283e-05 - val_loss: 2.1593e-04 - val_accuracy: 0.0000e+00 - 976ms/epoch - 22ms/step\n",
            "Epoch 100/100\n",
            "44/44 - 1s - loss: 1.7177e-04 - accuracy: 2.2283e-05 - val_loss: 1.7912e-04 - val_accuracy: 0.0000e+00 - 953ms/epoch - 22ms/step\n"
          ]
        },
        {
          "output_type": "execute_result",
          "data": {
            "text/plain": [
              "<keras.callbacks.History at 0x7f9bb634fcd0>"
            ]
          },
          "metadata": {},
          "execution_count": 18
        }
      ]
    },
    {
      "cell_type": "code",
      "source": [
        "# function to calculate error\n",
        "def mean_absolute_percentage_error(y_true, y_pred):\n",
        "    y_true, y_pred = np.array(y_true), np.array(y_pred)\n",
        "    return np.mean(np.abs((y_true - y_pred)/y_true))*100"
      ],
      "metadata": {
        "id": "yYLk_74ON0bU"
      },
      "execution_count": 19,
      "outputs": []
    },
    {
      "cell_type": "code",
      "source": [
        "# testing part\n",
        "predicted = model.predict(x_test)\n",
        "predicted = (predicted*scaling_parameter)+minima\n",
        "actual = y_test\n",
        "actual = (actual*scaling_parameter)+minima\n",
        "print(actual)\n",
        "print(predicted)"
      ],
      "metadata": {
        "colab": {
          "base_uri": "https://localhost:8080/"
        },
        "id": "d1kHAVUJOOyT",
        "outputId": "0738aaa8-3b51-4cd5-c2b0-3908cb987b3c"
      },
      "execution_count": 20,
      "outputs": [
        {
          "output_type": "stream",
          "name": "stdout",
          "text": [
            "439/439 [==============================] - 1s 2ms/step\n",
            "[36234. 37427. 38565. ... 57755. 57877. 59674.]\n",
            "[[35948.027]\n",
            " [36880.605]\n",
            " [38286.293]\n",
            " ...\n",
            " [58410.457]\n",
            " [58972.58 ]\n",
            " [59206.062]]\n"
          ]
        }
      ]
    },
    {
      "cell_type": "code",
      "source": [
        "mape = sqrt(mean_absolute_percentage_error(predicted, actual))\n",
        "print(\"Test MAPE: %0.3f\" % mape)"
      ],
      "metadata": {
        "colab": {
          "base_uri": "https://localhost:8080/"
        },
        "id": "7APUGYs3OQt-",
        "outputId": "12a10479-34f1-423c-8940-10d7065dd2bc"
      },
      "execution_count": 21,
      "outputs": [
        {
          "output_type": "stream",
          "name": "stdout",
          "text": [
            "Test MAPE: 5.307\n"
          ]
        }
      ]
    },
    {
      "cell_type": "code",
      "source": [
        "# result presenting part\n",
        "plt.plot(actual[:24], label='Actual', color=\"blue\")\n",
        "plt.plot(predicted[:24], label='Predicted', color=\"red\")\n",
        "plt.ylabel(\"Load(MW)\")\n",
        "plt.title(\"Actual VS Predicted results\")\n",
        "plt.legend()\n",
        "plt.show()"
      ],
      "metadata": {
        "colab": {
          "base_uri": "https://localhost:8080/",
          "height": 281
        },
        "id": "Xd5xSJK2OVLO",
        "outputId": "e28798b7-8db9-433d-f5c8-0ebc506b0b9b"
      },
      "execution_count": 22,
      "outputs": [
        {
          "output_type": "display_data",
          "data": {
            "text/plain": [
              "<Figure size 432x288 with 1 Axes>"
            ],
            "image/png": "[encoded data removed]"
          },
          "metadata": {
            "needs_background": "light"
          }
        }
      ]
    }
  ]
}